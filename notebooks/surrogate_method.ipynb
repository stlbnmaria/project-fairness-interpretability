{
 "cells": [
  {
   "cell_type": "code",
   "execution_count": null,
   "metadata": {},
   "outputs": [],
   "source": [
    "import xgboost as xgb\n",
    "import matplotlib.pyplot as plt\n",
    "import mlflow\n",
    "import pandas as pd\n",
    "\n",
    "from pathlib import Path\n",
    "from sklearn.tree import DecisionTreeClassifier\n",
    "from sklearn.tree import plot_tree\n",
    "from sklearn.metrics import accuracy_score"
   ]
  },
  {
   "cell_type": "code",
   "execution_count": null,
   "metadata": {},
   "outputs": [],
   "source": [
    "from config.config_data import DATA_PATH"
   ]
  },
  {
   "cell_type": "code",
   "execution_count": null,
   "metadata": {},
   "outputs": [],
   "source": [
    "# TO DO: Change experiment_id to model name\n",
    "experiment_id = \"721849622709339297\"\n",
    "\n",
    "# Set the tracking URI to your local MLflow directory\n",
    "mlflow.set_tracking_uri(Path(DATA_PATH.parent.parent / \"mlruns\"))\n",
    "\n",
    "# Sort the runs by the 'val_AUC' metric\n",
    "runs = mlflow.search_runs(experiment_ids=[experiment_id])\n",
    "sorted_runs = runs.sort_values(by=\"metrics.val_AUC\", ascending=False)\n",
    "\n",
    "# Get the run with the highest AUC\n",
    "best_run = sorted_runs.iloc[0]"
   ]
  },
  {
   "cell_type": "code",
   "execution_count": null,
   "metadata": {},
   "outputs": [],
   "source": [
    "# Access the hyperparameters of the best run\n",
    "\n",
    "best_run_id = best_run.run_id\n",
    "best_run_info = mlflow.get_run(run_id=best_run_id)\n",
    "best_hyperparameters = best_run_info.data.params"
   ]
  },
  {
   "cell_type": "code",
   "execution_count": null,
   "metadata": {},
   "outputs": [],
   "source": [
    "# Set the best model\n",
    "\n",
    "best_xgb_model = xgb.XGBClassifier()\n",
    "best_xgb_model.set_params(**best_hyperparameters)"
   ]
  },
  {
   "cell_type": "code",
   "execution_count": null,
   "metadata": {},
   "outputs": [],
   "source": [
    "X_train = pd.read_csv(Path(DATA_PATH.parent.parent / \"train_X.csv\"))\n",
    "X_test = pd.read_csv(Path(DATA_PATH.parent.parent / \"test_X.csv\"))\n",
    "y_test = pd.read_csv(Path(DATA_PATH.parent.parent / \"test_y.csv\"))"
   ]
  },
  {
   "cell_type": "code",
   "execution_count": null,
   "metadata": {},
   "outputs": [],
   "source": [
    "# Train a Decision Tree as a surrogate model to approximate XGBoost predictions\n",
    "\n",
    "decision_tree_surrogate = DecisionTreeClassifier()\n",
    "decision_tree_surrogate.fit(X_train, best_xgb_model.predict(X_train))"
   ]
  },
  {
   "cell_type": "code",
   "execution_count": null,
   "metadata": {},
   "outputs": [],
   "source": [
    "# Use the decision tree surrogate model to make predictions on the test data\n",
    "\n",
    "surrogate_preds = decision_tree_surrogate.predict(X_test)"
   ]
  },
  {
   "cell_type": "code",
   "execution_count": null,
   "metadata": {},
   "outputs": [],
   "source": [
    "# Evaluate the surrogate model's performance\n",
    "\n",
    "surrogate_accuracy = accuracy_score(y_test, surrogate_preds)\n",
    "print(\"Decision Tree Surrogate Model Accuracy: {:.2f}%\".format(surrogate_accuracy * 100))"
   ]
  },
  {
   "cell_type": "markdown",
   "metadata": {},
   "source": [
    "#### Feature Importance Plot"
   ]
  },
  {
   "cell_type": "code",
   "execution_count": null,
   "metadata": {},
   "outputs": [],
   "source": [
    "feature_importance = decision_tree_surrogate.feature_importances_\n",
    "feature_names = [f\"Feature {i}\" for i in range(len(feature_importance))]\n",
    "\n",
    "plt.barh(feature_names, feature_importance)\n",
    "plt.xlabel(\"Feature Importance\")\n",
    "plt.ylabel(\"Feature Name\")\n",
    "plt.title(\"Feature Importance Plot\")\n",
    "plt.show()"
   ]
  },
  {
   "cell_type": "markdown",
   "metadata": {},
   "source": [
    "#### Tree Visualization"
   ]
  },
  {
   "cell_type": "code",
   "execution_count": null,
   "metadata": {},
   "outputs": [],
   "source": [
    "plt.figure(figsize=(10, 8))\n",
    "plot_tree(\n",
    "    decision_tree_surrogate,\n",
    "    feature_names=feature_names,\n",
    "    class_names=[\"Class 0\", \"Class 1\"],\n",
    "    filled=True,\n",
    ")\n",
    "plt.show()"
   ]
  }
 ],
 "metadata": {
  "kernelspec": {
   "display_name": ".venv",
   "language": "python",
   "name": "python3"
  },
  "language_info": {
   "codemirror_mode": {
    "name": "ipython",
    "version": 3
   },
   "file_extension": ".py",
   "mimetype": "text/x-python",
   "name": "python",
   "nbconvert_exporter": "python",
   "pygments_lexer": "ipython3",
   "version": "3.11.4"
  }
 },
 "nbformat": 4,
 "nbformat_minor": 2
}
