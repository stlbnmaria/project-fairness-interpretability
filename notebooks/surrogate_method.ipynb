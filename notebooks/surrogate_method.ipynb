{
 "cells": [
  {
   "cell_type": "code",
   "execution_count": null,
   "metadata": {},
   "outputs": [],
   "source": [
    "import matplotlib.pyplot as plt\n",
    "import pandas as pd\n",
    "import numpy as np\n",
    "\n",
    "from pathlib import Path\n",
    "from sklearn.linear_model import LinearRegression\n",
    "from sklearn.metrics import accuracy_score, mean_squared_error\n",
    "from sklearn.model_selection import cross_val_score\n",
    "from sklearn.tree import DecisionTreeClassifier, plot_tree\n",
    "\n",
    "from src.utils.models_pkl import load_pickle"
   ]
  },
  {
   "cell_type": "code",
   "execution_count": null,
   "metadata": {},
   "outputs": [],
   "source": [
    "from config.config_data import DATA_PATH"
   ]
  },
  {
   "cell_type": "code",
   "execution_count": null,
   "metadata": {},
   "outputs": [],
   "source": [
    "MODEL_PATH = Path(\"../models\") / \"XGB.pkl\"\n",
    "model = load_pickle(MODEL_PATH)"
   ]
  },
  {
   "cell_type": "code",
   "execution_count": null,
   "metadata": {},
   "outputs": [],
   "source": [
    "X_train = pd.read_csv(\"..\" / Path(DATA_PATH.parent / \"train_X.csv\"))\n",
    "y_train = pd.read_csv(\"..\" / Path(DATA_PATH.parent / \"train_y.csv\"))\n",
    "X_test = pd.read_csv(\"..\" / Path(DATA_PATH.parent / \"test_X.csv\"))\n",
    "y_test = pd.read_csv(\"..\" / Path(DATA_PATH.parent / \"test_y.csv\"))"
   ]
  },
  {
   "cell_type": "code",
   "execution_count": null,
   "metadata": {},
   "outputs": [],
   "source": [
    "# Train the XGBoost model\n",
    "model.fit(X_train, y_train)"
   ]
  },
  {
   "cell_type": "markdown",
   "metadata": {},
   "source": [
    "#### Linear Regression as a Surrogate Model"
   ]
  },
  {
   "cell_type": "code",
   "execution_count": null,
   "metadata": {},
   "outputs": [],
   "source": [
    "# Train a Linear Regression as a surrogate model to approximate XGBoost predictions\n",
    "linear_reggression_surrogate = LinearRegression()\n",
    "linear_reggression_surrogate.fit(X_train, model.predict(X_train))"
   ]
  },
  {
   "cell_type": "code",
   "execution_count": null,
   "metadata": {},
   "outputs": [],
   "source": [
    "from sklearn.linear_model import LassoCV\n",
    "\n",
    "lasso = LassoCV(alphas=[0.01, 0.1, 1.0, 10.0, 100.0], cv=5)\n",
    "lasso.fit(X_train, y_train)\n",
    "\n",
    "# Get the optimal alpha value\n",
    "optimal_alpha = lasso.alpha_\n",
    "print(optimal_alpha)\n",
    "\n",
    "linear_regression_surrogate_lasso = LinearRegression()\n",
    "linear_regression_surrogate_lasso.fit(X_train, y_train)\n",
    "lasso_coefficients = lasso.coef_"
   ]
  },
  {
   "cell_type": "code",
   "execution_count": null,
   "metadata": {},
   "outputs": [],
   "source": [
    "# Evaluate the surrogate model's performance\n",
    "surrogate_predictions = linear_reggression_surrogate.predict(X_train)\n",
    "lasso_surrogate_predictions = linear_regression_surrogate_lasso.predict(X_train)\n",
    "\n",
    "# Calculate RMSE\n",
    "rmse = np.sqrt(mean_squared_error(model.predict(X_train), surrogate_predictions))\n",
    "lasso_rmse = np.sqrt(mean_squared_error(model.predict(X_train), lasso_surrogate_predictions))\n",
    "\n",
    "print(\"Linear Regression Surrogate Model RMSE: {:.4f}\".format(rmse))\n",
    "print(\"Lasso Linear Regression Surrogate Model RMSE: {:.4f}\".format(lasso_rmse))"
   ]
  },
  {
   "cell_type": "code",
   "execution_count": null,
   "metadata": {},
   "outputs": [],
   "source": [
    "# Get the coefficients of the surrogate model\n",
    "coef = linear_reggression_surrogate.coef_\n",
    "\n",
    "# Get feature names (assuming X_train is a DataFrame)\n",
    "feature_names = X_train.columns"
   ]
  },
  {
   "cell_type": "code",
   "execution_count": null,
   "metadata": {},
   "outputs": [],
   "source": [
    "# Order by the absolute values of coefficients\n",
    "importance_df = pd.DataFrame({\"Feature Name\": feature_names, \"Coefficients\": coef})\n",
    "\n",
    "importance_df[\"Absolute Coefficients\"] = importance_df[\"Coefficients\"].abs()\n",
    "importance_df = importance_df.sort_values(by=\"Absolute Coefficients\", ascending=False)\n",
    "importance_df = importance_df.drop(columns=\"Absolute Coefficients\")\n",
    "pd.options.display.float_format = \"{:.2f}\".format\n",
    "\n",
    "print(\"Feature Importances (Ordered by Absolute Coefficient Value):\")\n",
    "print(importance_df)"
   ]
  },
  {
   "cell_type": "code",
   "execution_count": null,
   "metadata": {},
   "outputs": [],
   "source": [
    "# Plot feature importance\n",
    "plt.figure(figsize=(10, 8))\n",
    "plt.barh(feature_names, coef, color=\"green\")\n",
    "plt.xlabel(\"Coefficient Magnitude\")\n",
    "plt.ylabel(\"Feature\")\n",
    "plt.title(\"Feature Importance in Linear Regression Surrogate Model\")\n",
    "plt.show()"
   ]
  },
  {
   "cell_type": "markdown",
   "metadata": {},
   "source": [
    "#### Decision Tree as a Surrogate Model"
   ]
  },
  {
   "cell_type": "code",
   "execution_count": null,
   "metadata": {},
   "outputs": [],
   "source": [
    "# Define a range of maximum depths to test\n",
    "max_depths = list(range(2, 30))\n",
    "cv_scores = []\n",
    "\n",
    "# Iterate over different max_depth values and perform cross-validation\n",
    "for max_depth in max_depths:\n",
    "    decision_tree_surrogate = DecisionTreeClassifier(max_depth=max_depth)\n",
    "    scores = cross_val_score(decision_tree_surrogate, X_train, y_train, cv=5, scoring=\"accuracy\")\n",
    "    mean_accuracy = np.mean(scores)\n",
    "    cv_scores.append(mean_accuracy)\n",
    "\n",
    "# Plot the mean cross-validation scores vs. max depth\n",
    "plt.figure(figsize=(10, 3))\n",
    "plt.plot(max_depths, cv_scores, color=\"green\")\n",
    "plt.xlabel(\"Max Depth\")\n",
    "plt.ylabel(\"Mean Cross-Validation Accuracy\")\n",
    "plt.title(\"Surrogate Model Performance vs. Max Depth (Cross-Validation)\")\n",
    "plt.grid(True)\n",
    "plt.show()"
   ]
  },
  {
   "cell_type": "code",
   "execution_count": null,
   "metadata": {},
   "outputs": [],
   "source": [
    "# Train a Decision Tree as a surrogate model to approximate XGBoost predictions\n",
    "max_depth = 5\n",
    "\n",
    "decision_tree_surrogate = DecisionTreeClassifier(max_depth=max_depth)\n",
    "decision_tree_surrogate.fit(X_train, model.predict(X_train))"
   ]
  },
  {
   "cell_type": "code",
   "execution_count": null,
   "metadata": {},
   "outputs": [],
   "source": [
    "# Evaluate the surrogate model's performance\n",
    "decision_tree_surrogate_preds = decision_tree_surrogate.predict(X_test)\n",
    "\n",
    "surrogate_accuracy = accuracy_score(y_test, decision_tree_surrogate_preds)\n",
    "print(\"Decision Tree Surrogate Model Accuracy: {:.2f}%\".format(surrogate_accuracy * 100))"
   ]
  },
  {
   "cell_type": "code",
   "execution_count": null,
   "metadata": {},
   "outputs": [],
   "source": [
    "# Decision Tree Visualization\n",
    "plt.figure(figsize=(12, 6))\n",
    "plot_tree(\n",
    "    decision_tree_surrogate,\n",
    "    filled=True,\n",
    "    feature_names=X_train.columns,\n",
    "    class_names=[\"Warning\", \"Citation\"],\n",
    ")\n",
    "plt.show()"
   ]
  },
  {
   "cell_type": "code",
   "execution_count": null,
   "metadata": {},
   "outputs": [],
   "source": [
    "feature_importance = decision_tree_surrogate.feature_importances_\n",
    "feature_names = X_train.columns\n",
    "\n",
    "# Sort feature importances in descending order\n",
    "sorted_idx = feature_importance.argsort()"
   ]
  },
  {
   "cell_type": "code",
   "execution_count": null,
   "metadata": {},
   "outputs": [],
   "source": [
    "# Feature Importance Plot\n",
    "\n",
    "plt.figure(figsize=(8, 10))\n",
    "plt.barh(range(X_train.shape[1]), feature_importance[sorted_idx], color=\"green\")\n",
    "plt.yticks(range(X_train.shape[1]), [feature_names[i] for i in sorted_idx])\n",
    "plt.ylabel(\"Feature\")\n",
    "plt.xlabel(\"Feature Importance\")\n",
    "plt.title(\"Feature Importance Analysis\")\n",
    "plt.show()"
   ]
  }
 ],
 "metadata": {
  "kernelspec": {
   "display_name": ".venv",
   "language": "python",
   "name": "python3"
  },
  "language_info": {
   "codemirror_mode": {
    "name": "ipython",
    "version": 3
   },
   "file_extension": ".py",
   "mimetype": "text/x-python",
   "name": "python",
   "nbconvert_exporter": "python",
   "pygments_lexer": "ipython3",
   "version": "3.11.4"
  }
 },
 "nbformat": 4,
 "nbformat_minor": 2
}
