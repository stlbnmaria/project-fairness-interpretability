{
 "cells": [
  {
   "cell_type": "code",
   "execution_count": null,
   "metadata": {},
   "outputs": [],
   "source": [
    "import pandas as pd\n",
    "import XPER\n",
    "\n",
    "from pathlib import Path\n",
    "from src.utils.models_pkl import load_pickle\n",
    "from src.modeling.create_data_split import split_data\n",
    "from config.config_modeling import CAT_COLS"
   ]
  },
  {
   "cell_type": "code",
   "execution_count": null,
   "metadata": {},
   "outputs": [],
   "source": [
    "OUT_PATH = Path(\"../data/data.csv\")\n",
    "df = pd.read_csv(OUT_PATH)"
   ]
  },
  {
   "cell_type": "code",
   "execution_count": null,
   "metadata": {},
   "outputs": [],
   "source": [
    "MODEL_PATH = Path(\"../models/XGB.pkl\")\n",
    "model = load_pickle(MODEL_PATH)"
   ]
  },
  {
   "cell_type": "code",
   "execution_count": null,
   "metadata": {},
   "outputs": [],
   "source": [
    "model"
   ]
  },
  {
   "cell_type": "code",
   "execution_count": null,
   "metadata": {},
   "outputs": [],
   "source": [
    "data = split_data(cols=CAT_COLS, df=df)"
   ]
  },
  {
   "cell_type": "code",
   "execution_count": null,
   "metadata": {},
   "outputs": [],
   "source": [
    "data[\"train\"][0]"
   ]
  },
  {
   "cell_type": "code",
   "execution_count": null,
   "metadata": {},
   "outputs": [],
   "source": [
    "X_train, y_train, X_val, y_val = data[\"train\"][0], data[\"train\"][1], data[\"val\"][0], data[\"val\"][1]"
   ]
  },
  {
   "cell_type": "code",
   "execution_count": null,
   "metadata": {},
   "outputs": [],
   "source": [
    "from XPER.compute.Performance import ModelPerformance\n",
    "\n",
    "# Define the evaluation metric(s) to be used\n",
    "XPER = ModelPerformance(X_train, y_train, X_val, y_val, model)\n",
    "\n",
    "# Evaluate the model performance using the specified metric(s)\n",
    "PM = XPER.evaluate([\"AUC\"])\n",
    "\n",
    "# Print the performance metrics\n",
    "print(\"Performance Metrics: \", round(PM, 3))"
   ]
  },
  {
   "cell_type": "code",
   "execution_count": null,
   "metadata": {},
   "outputs": [],
   "source": [
    "# Calculate XPER values for the model's performance\n",
    "XPER_values = XPER.calculate_XPER_values([\"Precision\"])\n",
    "# AUC takes much longer than Precision! For illustration purpose, it is better to choose precision."
   ]
  },
  {
   "cell_type": "code",
   "execution_count": null,
   "metadata": {},
   "outputs": [],
   "source": [
    "# Calculate XPER values for the model's performance\n",
    "XPER_values = XPER.calculate_XPER_values([\"AUC\"], kernel=False)"
   ]
  },
  {
   "cell_type": "code",
   "execution_count": null,
   "metadata": {},
   "outputs": [],
   "source": []
  }
 ],
 "metadata": {
  "kernelspec": {
   "display_name": "Python 3 (ipykernel)",
   "language": "python",
   "name": "python3"
  },
  "language_info": {
   "codemirror_mode": {
    "name": "ipython",
    "version": 3
   },
   "file_extension": ".py",
   "mimetype": "text/x-python",
   "name": "python",
   "nbconvert_exporter": "python",
   "pygments_lexer": "ipython3",
   "version": "3.10.13"
  },
  "vscode": {
   "interpreter": {
    "hash": "32fd20a7cb783056e90091779fc1ae5d4f04b827b5afc79ecc17343324d2dcd5"
   }
  }
 },
 "nbformat": 4,
 "nbformat_minor": 4
}
