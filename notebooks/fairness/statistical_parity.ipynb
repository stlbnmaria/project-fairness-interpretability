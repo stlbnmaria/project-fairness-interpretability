{
 "cells": [
  {
   "cell_type": "markdown",
   "id": "708a9a724de7be0",
   "metadata": {},
   "source": [
    "# Statistical parity test"
   ]
  },
  {
   "cell_type": "code",
   "execution_count": null,
   "id": "7c0337591f7163ad",
   "metadata": {},
   "outputs": [],
   "source": [
    "import os\n",
    "import warnings\n",
    "from pathlib import Path\n",
    "\n",
    "import pandas as pd\n",
    "from sklearn.metrics import roc_auc_score\n",
    "\n",
    "from src.utils.models_pkl import load_pickle\n",
    "from src.modeling.create_data_split import split_data\n",
    "from src.fairness.statistical_parity import statistical_parity_test\n",
    "from config.config_modeling import CAT_COLS, TRAIN_SIZE, TEST_FROM_VAL, RANDOM_STATE"
   ]
  },
  {
   "cell_type": "markdown",
   "id": "f0eb8c6eb9466ec5",
   "metadata": {},
   "source": [
    "## Notebook settings"
   ]
  },
  {
   "cell_type": "code",
   "execution_count": null,
   "id": "d980a46e83c79bdc",
   "metadata": {},
   "outputs": [],
   "source": [
    "warnings.filterwarnings(\"ignore\")"
   ]
  },
  {
   "cell_type": "markdown",
   "id": "7c2b1bf4fec8331b",
   "metadata": {},
   "source": [
    "## Define constants"
   ]
  },
  {
   "cell_type": "code",
   "execution_count": null,
   "id": "f3942d0e5f807ceb",
   "metadata": {},
   "outputs": [],
   "source": [
    "# Paths.\n",
    "IN_PATH = Path(os.path.join(\"..\", \"..\", \"data\", \"processed\")) / \"data_plain.csv\"\n",
    "MODEL_PATH = Path(os.path.join(\"..\", \"..\", \"models\")) / \"XGB.pkl\""
   ]
  },
  {
   "cell_type": "markdown",
   "id": "979faf1ccb52737b",
   "metadata": {},
   "source": [
    "## Load data"
   ]
  },
  {
   "cell_type": "code",
   "execution_count": null,
   "id": "2d4d8718cc1c6830",
   "metadata": {},
   "outputs": [],
   "source": [
    "data = split_data(\n",
    "    cols=CAT_COLS,\n",
    "    df=pd.read_csv(IN_PATH),\n",
    "    train_size=TRAIN_SIZE,\n",
    "    test_size=TEST_FROM_VAL,\n",
    "    random_state=RANDOM_STATE,\n",
    ")\n",
    "\n",
    "X_test, Y_test = data[\"test\"]\n",
    "X_test.reset_index(drop=True, inplace=True)\n",
    "Y_test.reset_index(drop=True, inplace=True)"
   ]
  },
  {
   "cell_type": "markdown",
   "id": "95a8db1b10eba3cf",
   "metadata": {},
   "source": [
    "## Load model"
   ]
  },
  {
   "cell_type": "code",
   "execution_count": null,
   "id": "e9852d776d655232",
   "metadata": {},
   "outputs": [],
   "source": [
    "model = load_pickle(MODEL_PATH)\n",
    "\n",
    "# Validate model and data.\n",
    "print(roc_auc_score(Y_test, model.predict_proba(X_test)[:, 1]))"
   ]
  },
  {
   "cell_type": "markdown",
   "id": "c67029e84c7794da",
   "metadata": {},
   "source": [
    "## Statistical parity testing"
   ]
  },
  {
   "cell_type": "markdown",
   "id": "366dda26d6ba9dd2",
   "metadata": {},
   "source": [
    "### Define parameters"
   ]
  },
  {
   "cell_type": "code",
   "execution_count": null,
   "id": "fde5c73c20923de",
   "metadata": {},
   "outputs": [],
   "source": [
    "TARGET_COLUMN = \"Citation\"\n",
    "POSITIVE_OUTCOME = 0\n",
    "\n",
    "SENSITIVE_ATTRIBUTE_1 = \"Gender_F\"\n",
    "SENSITIVE_ATTRIBUTE_1_PROTECTED = 1\n",
    "\n",
    "SENSITIVE_ATTRIBUTE_2 = \"Race_BLACK\"\n",
    "SENSITIVE_ATTRIBUTE_2_PROTECTED = 1\n",
    "\n",
    "GROUPING_ATTRIBUTE = \"VehicleType\""
   ]
  },
  {
   "cell_type": "markdown",
   "id": "9a212d2cfd4fedf2",
   "metadata": {},
   "source": [
    "### Prepare dataframe"
   ]
  },
  {
   "cell_type": "code",
   "execution_count": null,
   "id": "67839ac9d16d5f62",
   "metadata": {},
   "outputs": [],
   "source": [
    "# Choose between analysis of data or model's fairness.\n",
    "# target = Y_test  # data\n",
    "target = model.predict(X_test)  # model\n",
    "\n",
    "population = pd.concat([X_test, pd.DataFrame(data={TARGET_COLUMN: target})], axis=1)"
   ]
  },
  {
   "cell_type": "markdown",
   "id": "7f51a59653257f40",
   "metadata": {},
   "source": [
    "### Statistical parity"
   ]
  },
  {
   "cell_type": "markdown",
   "id": "7a15ab02f1e4b03f",
   "metadata": {},
   "source": [
    "#### Sensitive attribute #1 (Gender)"
   ]
  },
  {
   "cell_type": "code",
   "execution_count": null,
   "id": "5dc9e0e57d927fbf",
   "metadata": {},
   "outputs": [],
   "source": [
    "test_result = statistical_parity_test(\n",
    "    dataset_list=[population],\n",
    "    sensitive_attribute=SENSITIVE_ATTRIBUTE_1,\n",
    "    protected_group=SENSITIVE_ATTRIBUTE_1_PROTECTED,\n",
    "    target_column=TARGET_COLUMN,\n",
    "    positive_outcome=POSITIVE_OUTCOME,\n",
    ")\n",
    "print(test_result)"
   ]
  },
  {
   "cell_type": "code",
   "execution_count": null,
   "id": "d310d0cca1b30bf2",
   "metadata": {},
   "outputs": [],
   "source": [
    "population.groupby(SENSITIVE_ATTRIBUTE_1)[TARGET_COLUMN].value_counts()"
   ]
  },
  {
   "cell_type": "markdown",
   "id": "2f790a1754ee1018",
   "metadata": {},
   "source": [
    "#### Sensitive attribute #2 (Race)"
   ]
  },
  {
   "cell_type": "code",
   "execution_count": null,
   "id": "d38ec70115f336c2",
   "metadata": {},
   "outputs": [],
   "source": [
    "test_result = statistical_parity_test(\n",
    "    dataset_list=[population],\n",
    "    sensitive_attribute=SENSITIVE_ATTRIBUTE_2,\n",
    "    protected_group=SENSITIVE_ATTRIBUTE_2_PROTECTED,\n",
    "    target_column=TARGET_COLUMN,\n",
    "    positive_outcome=POSITIVE_OUTCOME,\n",
    ")\n",
    "print(test_result)"
   ]
  },
  {
   "cell_type": "code",
   "execution_count": null,
   "id": "85951dd3b7994dec",
   "metadata": {},
   "outputs": [],
   "source": [
    "population.groupby(SENSITIVE_ATTRIBUTE_2)[TARGET_COLUMN].value_counts()"
   ]
  },
  {
   "cell_type": "markdown",
   "id": "9a0bdd83d7f93ece",
   "metadata": {},
   "source": [
    "### Conditional statistical parity"
   ]
  },
  {
   "cell_type": "markdown",
   "id": "c2f390951fa9d74f",
   "metadata": {},
   "source": [
    "#### Prepare the subpopulations based on the \"VehicleType\" attribute."
   ]
  },
  {
   "cell_type": "code",
   "execution_count": null,
   "id": "6ca50f9cbf2f3a3b",
   "metadata": {},
   "outputs": [],
   "source": [
    "sub_population_1 = population[population[\"VehicleType_Standard Vehicles\"] == 1]\n",
    "sub_population_2 = population[population[\"VehicleType_Trucks\"] == 1]\n",
    "sub_population_3 = population[population[\"VehicleType_other\"] == 1]\n",
    "sub_population_4 = population[population[\"VehicleType_Motorcycles\"] == 1]"
   ]
  },
  {
   "cell_type": "markdown",
   "id": "f0c99008868549d9",
   "metadata": {},
   "source": [
    "#### Sensitive attribute #1 (Gender)"
   ]
  },
  {
   "cell_type": "code",
   "execution_count": null,
   "id": "527c83e7001e5caa",
   "metadata": {},
   "outputs": [],
   "source": [
    "test_result = statistical_parity_test(\n",
    "    dataset_list=[sub_population_1, sub_population_2, sub_population_3, sub_population_4],\n",
    "    sensitive_attribute=SENSITIVE_ATTRIBUTE_1,\n",
    "    protected_group=SENSITIVE_ATTRIBUTE_1_PROTECTED,\n",
    "    target_column=TARGET_COLUMN,\n",
    "    positive_outcome=POSITIVE_OUTCOME,\n",
    ")\n",
    "print(test_result)"
   ]
  },
  {
   "cell_type": "code",
   "execution_count": null,
   "id": "66507b0ac007da0a",
   "metadata": {},
   "outputs": [],
   "source": [
    "test_result = statistical_parity_test(\n",
    "    dataset_list=[sub_population_1],\n",
    "    sensitive_attribute=SENSITIVE_ATTRIBUTE_1,\n",
    "    protected_group=SENSITIVE_ATTRIBUTE_1_PROTECTED,\n",
    "    target_column=TARGET_COLUMN,\n",
    "    positive_outcome=POSITIVE_OUTCOME,\n",
    ")\n",
    "print(test_result, \"\\n\")\n",
    "\n",
    "\n",
    "test_result = statistical_parity_test(\n",
    "    dataset_list=[sub_population_2],\n",
    "    sensitive_attribute=SENSITIVE_ATTRIBUTE_1,\n",
    "    protected_group=SENSITIVE_ATTRIBUTE_1_PROTECTED,\n",
    "    target_column=TARGET_COLUMN,\n",
    "    positive_outcome=POSITIVE_OUTCOME,\n",
    ")\n",
    "print(test_result, \"\\n\")\n",
    "\n",
    "\n",
    "test_result = statistical_parity_test(\n",
    "    dataset_list=[sub_population_3],\n",
    "    sensitive_attribute=SENSITIVE_ATTRIBUTE_1,\n",
    "    protected_group=SENSITIVE_ATTRIBUTE_1_PROTECTED,\n",
    "    target_column=TARGET_COLUMN,\n",
    "    positive_outcome=POSITIVE_OUTCOME,\n",
    ")\n",
    "print(test_result, \"\\n\")\n",
    "\n",
    "\n",
    "test_result = statistical_parity_test(\n",
    "    dataset_list=[sub_population_4],\n",
    "    sensitive_attribute=SENSITIVE_ATTRIBUTE_1,\n",
    "    protected_group=SENSITIVE_ATTRIBUTE_1_PROTECTED,\n",
    "    target_column=TARGET_COLUMN,\n",
    "    positive_outcome=POSITIVE_OUTCOME,\n",
    ")\n",
    "print(test_result, \"\\n\")"
   ]
  },
  {
   "cell_type": "markdown",
   "id": "d2665141cef66fc9",
   "metadata": {},
   "source": [
    "Note: The main source of unfairness is the subpopulation_1 (VehicleType == \"Standard Vehicles\")"
   ]
  },
  {
   "cell_type": "markdown",
   "id": "98d3137260d7edc3",
   "metadata": {},
   "source": [
    "#### Sensitive attribute #2 (Race)"
   ]
  },
  {
   "cell_type": "code",
   "execution_count": null,
   "id": "3e0a81ef48e57224",
   "metadata": {},
   "outputs": [],
   "source": [
    "test_result = statistical_parity_test(\n",
    "    dataset_list=[sub_population_1, sub_population_2, sub_population_3, sub_population_4],\n",
    "    sensitive_attribute=SENSITIVE_ATTRIBUTE_2,\n",
    "    protected_group=SENSITIVE_ATTRIBUTE_2_PROTECTED,\n",
    "    target_column=TARGET_COLUMN,\n",
    "    positive_outcome=POSITIVE_OUTCOME,\n",
    ")\n",
    "print(test_result)"
   ]
  },
  {
   "cell_type": "code",
   "execution_count": null,
   "id": "863b98317381fb02",
   "metadata": {},
   "outputs": [],
   "source": [
    "test_result = statistical_parity_test(\n",
    "    dataset_list=[sub_population_1],\n",
    "    sensitive_attribute=SENSITIVE_ATTRIBUTE_2,\n",
    "    protected_group=SENSITIVE_ATTRIBUTE_2_PROTECTED,\n",
    "    target_column=TARGET_COLUMN,\n",
    "    positive_outcome=POSITIVE_OUTCOME,\n",
    ")\n",
    "print(test_result, \"\\n\")\n",
    "\n",
    "\n",
    "test_result = statistical_parity_test(\n",
    "    dataset_list=[sub_population_2],\n",
    "    sensitive_attribute=SENSITIVE_ATTRIBUTE_2,\n",
    "    protected_group=SENSITIVE_ATTRIBUTE_2_PROTECTED,\n",
    "    target_column=TARGET_COLUMN,\n",
    "    positive_outcome=POSITIVE_OUTCOME,\n",
    ")\n",
    "print(test_result, \"\\n\")\n",
    "\n",
    "\n",
    "test_result = statistical_parity_test(\n",
    "    dataset_list=[sub_population_3],\n",
    "    sensitive_attribute=SENSITIVE_ATTRIBUTE_2,\n",
    "    protected_group=SENSITIVE_ATTRIBUTE_2_PROTECTED,\n",
    "    target_column=TARGET_COLUMN,\n",
    "    positive_outcome=POSITIVE_OUTCOME,\n",
    ")\n",
    "print(test_result, \"\\n\")\n",
    "\n",
    "\n",
    "test_result = statistical_parity_test(\n",
    "    dataset_list=[sub_population_4],\n",
    "    sensitive_attribute=SENSITIVE_ATTRIBUTE_2,\n",
    "    protected_group=SENSITIVE_ATTRIBUTE_2_PROTECTED,\n",
    "    target_column=TARGET_COLUMN,\n",
    "    positive_outcome=POSITIVE_OUTCOME,\n",
    ")\n",
    "print(test_result, \"\\n\")"
   ]
  }
 ],
 "metadata": {
  "kernelspec": {
   "display_name": "Python 3",
   "language": "python",
   "name": "python3"
  },
  "language_info": {
   "codemirror_mode": {
    "name": "ipython",
    "version": 2
   },
   "file_extension": ".py",
   "mimetype": "text/x-python",
   "name": "python",
   "nbconvert_exporter": "python",
   "pygments_lexer": "ipython2",
   "version": "2.7.6"
  }
 },
 "nbformat": 4,
 "nbformat_minor": 5
}
