{
 "cells": [
  {
   "cell_type": "code",
   "execution_count": null,
   "metadata": {},
   "outputs": [],
   "source": [
    "import eli5\n",
    "import matplotlib.pyplot as plt\n",
    "import pandas as pd\n",
    "\n",
    "from pathlib import Path\n",
    "from XPER.viz.Visualisation import visualizationClass as viz\n",
    "\n",
    "from src.explanation.performance.xper import xper_values\n",
    "from src.explanation.performance.permutation_importance import pi\n",
    "from src.modeling.create_data_split import split_data\n",
    "from src.utils.models_pkl import load_pickle\n",
    "\n",
    "from config.config_modeling import CAT_COLS, RANDOM_STATE"
   ]
  },
  {
   "attachments": {},
   "cell_type": "markdown",
   "metadata": {},
   "source": [
    "# Initializing all the necessary variables"
   ]
  },
  {
   "cell_type": "code",
   "execution_count": null,
   "metadata": {},
   "outputs": [],
   "source": [
    "OUT_PATH = Path(\"../../data\") / \"data.csv\"\n",
    "MODEL_PATH = Path(\"../../models\") / \"XGB.pkl\""
   ]
  },
  {
   "cell_type": "code",
   "execution_count": null,
   "metadata": {},
   "outputs": [],
   "source": [
    "df = pd.read_csv(OUT_PATH)"
   ]
  },
  {
   "cell_type": "code",
   "execution_count": null,
   "metadata": {},
   "outputs": [],
   "source": [
    "model = load_pickle(MODEL_PATH)"
   ]
  },
  {
   "cell_type": "code",
   "execution_count": null,
   "metadata": {},
   "outputs": [],
   "source": [
    "data = split_data(cols=CAT_COLS, df=df, random_state=RANDOM_STATE)"
   ]
  },
  {
   "cell_type": "code",
   "execution_count": null,
   "metadata": {},
   "outputs": [],
   "source": [
    "X_train, y_train, X_test, y_test = (\n",
    "    data[\"train\"][0],\n",
    "    data[\"train\"][1],\n",
    "    data[\"test\"][0],\n",
    "    data[\"test\"][1],\n",
    ")"
   ]
  },
  {
   "attachments": {},
   "cell_type": "markdown",
   "metadata": {},
   "source": [
    "# XPER Values"
   ]
  },
  {
   "cell_type": "code",
   "execution_count": null,
   "metadata": {},
   "outputs": [],
   "source": [
    "# Get the perfomance metric as well as the XPER values for the model's performance for train data\n",
    "PM_test, XPER_values = xper_values(X_train, y_train, X_test, y_test, model)"
   ]
  },
  {
   "cell_type": "code",
   "execution_count": null,
   "metadata": {},
   "outputs": [],
   "source": [
    "# Print the performance metrics\n",
    "print(\"Performance Metrics: \", PM_test)"
   ]
  },
  {
   "cell_type": "code",
   "execution_count": null,
   "metadata": {},
   "outputs": [],
   "source": [
    "labels = list(X_train.columns)"
   ]
  },
  {
   "cell_type": "code",
   "execution_count": null,
   "metadata": {},
   "outputs": [],
   "source": [
    "# bar plot to measure contribution of each feature to the AUC\n",
    "viz.bar_plot(\n",
    "    XPER_values=XPER_values, X_test=pd.DataFrame(X_test), labels=labels, p=38, percentage=True\n",
    ")"
   ]
  },
  {
   "cell_type": "code",
   "execution_count": null,
   "metadata": {},
   "outputs": [],
   "source": [
    "viz.beeswarn_plot(XPER_values=XPER_values, X_test=pd.DataFrame(X_test), labels=labels)"
   ]
  },
  {
   "cell_type": "code",
   "execution_count": null,
   "metadata": {},
   "outputs": [],
   "source": [
    "viz.force_plot(\n",
    "    XPER_values=XPER_values, instance=1, X_test=X_test, variable_name=labels, figsize=(16, 4)\n",
    ")"
   ]
  },
  {
   "attachments": {},
   "cell_type": "markdown",
   "metadata": {},
   "source": [
    "# Permutation Importance"
   ]
  },
  {
   "cell_type": "code",
   "execution_count": null,
   "metadata": {},
   "outputs": [],
   "source": [
    "sorted_features, sorted_contributions, perm_importance = pi(X_train, X_test, y_test, model)\n",
    "\n",
    "# Display feature importances using weights\n",
    "weights = eli5.show_weights(perm_importance, feature_names=list(X_train.columns))"
   ]
  },
  {
   "cell_type": "code",
   "execution_count": null,
   "metadata": {},
   "outputs": [],
   "source": [
    "# Plot the bar chart\n",
    "plt.figure(figsize=(10, 6))\n",
    "plt.bar(range(len(sorted_features)), sorted_contributions, tick_label=sorted_features)\n",
    "plt.title(\"Percentage Contribution to AUC (Permutation Importance)\")\n",
    "plt.xlabel(\"Features\")\n",
    "plt.ylabel(\"Percentage Contribution (%)\")\n",
    "plt.xticks(rotation=90)\n",
    "plt.show()"
   ]
  },
  {
   "cell_type": "code",
   "execution_count": null,
   "metadata": {},
   "outputs": [],
   "source": []
  }
 ],
 "metadata": {
  "kernelspec": {
   "display_name": "Python 3 (ipykernel)",
   "language": "python",
   "name": "python3"
  },
  "language_info": {
   "codemirror_mode": {
    "name": "ipython",
    "version": 3
   },
   "file_extension": ".py",
   "mimetype": "text/x-python",
   "name": "python",
   "nbconvert_exporter": "python",
   "pygments_lexer": "ipython3",
   "version": "3.10.7"
  },
  "vscode": {
   "interpreter": {
    "hash": "32fd20a7cb783056e90091779fc1ae5d4f04b827b5afc79ecc17343324d2dcd5"
   }
  }
 },
 "nbformat": 4,
 "nbformat_minor": 4
}
