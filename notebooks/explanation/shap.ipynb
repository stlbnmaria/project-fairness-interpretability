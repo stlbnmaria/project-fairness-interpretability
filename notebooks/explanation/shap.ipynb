{
 "cells": [
  {
   "cell_type": "markdown",
   "id": "d871ac1735fd98f0",
   "metadata": {},
   "source": [
    "# SHAP Local Explanation"
   ]
  },
  {
   "cell_type": "code",
   "execution_count": null,
   "id": "a4e465e97cfc1984",
   "metadata": {},
   "outputs": [],
   "source": [
    "import os\n",
    "import warnings\n",
    "from pathlib import Path\n",
    "\n",
    "import shap\n",
    "import numpy as np\n",
    "import pandas as pd\n",
    "import matplotlib.pyplot as plt\n",
    "from sklearn.metrics import roc_auc_score\n",
    "\n",
    "from src.utils.models_pkl import load_pickle\n",
    "from src.modeling.create_data_split import split_data\n",
    "from src.explanation.local.utils import plot_bar, plot_scatter\n",
    "from src.explanation.local.shap_explainer import ShapExplainer\n",
    "from config.config_modeling import CAT_COLS, TRAIN_SIZE, TEST_FROM_VAL, RANDOM_STATE"
   ]
  },
  {
   "cell_type": "markdown",
   "id": "249138b5ddeaaa35",
   "metadata": {},
   "source": [
    "## Notebook settings"
   ]
  },
  {
   "cell_type": "code",
   "execution_count": null,
   "id": "1cf1c84ad87c4a5f",
   "metadata": {},
   "outputs": [],
   "source": [
    "warnings.filterwarnings(\"ignore\")"
   ]
  },
  {
   "cell_type": "markdown",
   "id": "3feee9eeabd6b47f",
   "metadata": {},
   "source": [
    "## Define constants"
   ]
  },
  {
   "cell_type": "code",
   "execution_count": null,
   "id": "406a5085a77466f9",
   "metadata": {},
   "outputs": [],
   "source": [
    "# Paths.\n",
    "IN_PATH = Path(os.path.join(\"..\", \"..\", \"data\", \"processed\")) / \"data_plain.csv\"\n",
    "MODEL_PATH = Path(os.path.join(\"..\", \"..\", \"models\")) / \"XGB.pkl\""
   ]
  },
  {
   "cell_type": "markdown",
   "id": "ba07372a555ef472",
   "metadata": {},
   "source": [
    "## Load data"
   ]
  },
  {
   "cell_type": "code",
   "execution_count": null,
   "id": "5f56de488ed08c05",
   "metadata": {},
   "outputs": [],
   "source": [
    "data = split_data(\n",
    "    cols=CAT_COLS,\n",
    "    df=pd.read_csv(IN_PATH),\n",
    "    train_size=TRAIN_SIZE,\n",
    "    test_size=TEST_FROM_VAL,\n",
    "    random_state=RANDOM_STATE,\n",
    ")\n",
    "\n",
    "X_train, Y_train = data[\"train\"]\n",
    "X_train.reset_index(drop=True, inplace=True)\n",
    "Y_train.reset_index(drop=True, inplace=True)\n",
    "\n",
    "X_test, Y_test = data[\"test\"]\n",
    "X_test.reset_index(drop=True, inplace=True)\n",
    "Y_test.reset_index(drop=True, inplace=True)"
   ]
  },
  {
   "cell_type": "markdown",
   "id": "7b8940f62c331288",
   "metadata": {},
   "source": [
    "## Load model"
   ]
  },
  {
   "cell_type": "code",
   "execution_count": null,
   "id": "7fa26cfbbacbec44",
   "metadata": {},
   "outputs": [],
   "source": [
    "model = load_pickle(MODEL_PATH)\n",
    "\n",
    "# Validate model and data.\n",
    "print(roc_auc_score(Y_train, model.predict_proba(X_train)[:, 1]))\n",
    "print(roc_auc_score(Y_test, model.predict_proba(X_test)[:, 1]))"
   ]
  },
  {
   "cell_type": "markdown",
   "id": "d6a9b26dc4bf9ef1",
   "metadata": {},
   "source": [
    "## SHAP Local Explanation"
   ]
  },
  {
   "cell_type": "markdown",
   "id": "fb7bd0548eff9cf8",
   "metadata": {},
   "source": [
    "### Define SHAP Explainer"
   ]
  },
  {
   "cell_type": "code",
   "execution_count": null,
   "id": "2ed151a5d45b845a",
   "metadata": {},
   "outputs": [],
   "source": [
    "def prediction_function(x: pd.DataFrame) -> np.ndarray:\n",
    "    predictions = model.predict_proba(x)[:, 1]\n",
    "    return predictions\n",
    "\n",
    "\n",
    "shap_explainer = ShapExplainer(prediction_function=prediction_function, dataset=X_train)"
   ]
  },
  {
   "cell_type": "markdown",
   "id": "9801947ad55f2864",
   "metadata": {},
   "source": [
    "### Global explanation"
   ]
  },
  {
   "cell_type": "code",
   "execution_count": null,
   "id": "d016867c628241dc",
   "metadata": {},
   "outputs": [],
   "source": [
    "res = shap_explainer.get_global_explanation(X_test[:1000], normalize=True)"
   ]
  },
  {
   "cell_type": "code",
   "execution_count": null,
   "id": "7402a5ff7800ed0a",
   "metadata": {},
   "outputs": [],
   "source": [
    "plt.figure(figsize=(12, 12))\n",
    "plot_bar(dict(sorted(res.items(), key=lambda x: -x[1])), orient=\"h\")\n",
    "plt.savefig(fname=\"shap_barplot.png\", dpi=300)"
   ]
  },
  {
   "cell_type": "markdown",
   "id": "4bf373a6de4b01d4",
   "metadata": {},
   "source": [
    "### Local explanation"
   ]
  },
  {
   "cell_type": "code",
   "execution_count": null,
   "id": "9fc18e3623f698c2",
   "metadata": {},
   "outputs": [],
   "source": [
    "res = shap_explainer.get_shap_explanation(X_test[:1000])"
   ]
  },
  {
   "cell_type": "code",
   "execution_count": null,
   "id": "be9d8ed59f707b4c",
   "metadata": {},
   "outputs": [],
   "source": [
    "shap.plots.beeswarm(res)"
   ]
  }
 ],
 "metadata": {
  "kernelspec": {
   "display_name": "Python 3",
   "language": "python",
   "name": "python3"
  },
  "language_info": {
   "codemirror_mode": {
    "name": "ipython",
    "version": 2
   },
   "file_extension": ".py",
   "mimetype": "text/x-python",
   "name": "python",
   "nbconvert_exporter": "python",
   "pygments_lexer": "ipython2",
   "version": "2.7.6"
  }
 },
 "nbformat": 4,
 "nbformat_minor": 5
}
