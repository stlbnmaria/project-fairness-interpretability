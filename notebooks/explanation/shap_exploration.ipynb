{
 "cells": [
  {
   "cell_type": "code",
   "execution_count": null,
   "id": "initial_id",
   "metadata": {},
   "outputs": [],
   "source": [
    "import shap\n",
    "import sklearn"
   ]
  },
  {
   "cell_type": "code",
   "execution_count": null,
   "id": "499c49de0480b4d5",
   "metadata": {},
   "outputs": [],
   "source": [
    "X_adult, y_adult = shap.datasets.adult()"
   ]
  },
  {
   "cell_type": "code",
   "execution_count": null,
   "id": "8e55cd69e66b88e4",
   "metadata": {},
   "outputs": [],
   "source": [
    "model_adult = sklearn.linear_model.LogisticRegression(max_iter=10000)\n",
    "model_adult.fit(X_adult, y_adult)"
   ]
  },
  {
   "cell_type": "code",
   "execution_count": null,
   "id": "5ec0c5a3dc9aeb4d",
   "metadata": {},
   "outputs": [],
   "source": [
    "background_adult = shap.maskers.Independent(X_adult, max_samples=100)"
   ]
  },
  {
   "cell_type": "code",
   "execution_count": null,
   "id": "8a6456eb6669b0fb",
   "metadata": {},
   "outputs": [],
   "source": [
    "X_adult.dtypes"
   ]
  },
  {
   "cell_type": "code",
   "execution_count": null,
   "id": "891fa720d137de28",
   "metadata": {},
   "outputs": [],
   "source": [
    "def _get_background_example(df):\n",
    "    median = df.median(numeric_only=True)\n",
    "    background_sample = df.mode(dropna=False).head(1)\n",
    "\n",
    "    # Use median of the numerical features.\n",
    "    numerical_features = [feature for feature in list(df.columns) if df[feature].dtype == float]\n",
    "    for feature in numerical_features:\n",
    "        background_sample[feature] = median[feature]\n",
    "\n",
    "    background_sample = background_sample.astype(df.dtypes)\n",
    "    return background_sample\n",
    "\n",
    "\n",
    "def model_adult_log_odds(x):\n",
    "    p = model_adult.predict_log_proba(x)\n",
    "    return p[:, 1] - p[:, 0]\n",
    "\n",
    "\n",
    "def prediction_function(x):\n",
    "    return model_adult.predict_proba(x)[:, 1]\n",
    "\n",
    "\n",
    "explainer = shap.KernelExplainer(\n",
    "    model=prediction_function,\n",
    "    data=_get_background_example(X_adult),\n",
    "    feature_names=X_adult.columns,\n",
    "    link=\"logit\",\n",
    "    keep_index=True,\n",
    ")"
   ]
  },
  {
   "cell_type": "code",
   "execution_count": null,
   "id": "7fe1ee03ebb7760b",
   "metadata": {},
   "outputs": [],
   "source": [
    "shap_values_adult = explainer(X_adult[:1000])"
   ]
  },
  {
   "cell_type": "code",
   "execution_count": null,
   "id": "841501099e4273b8",
   "metadata": {},
   "outputs": [],
   "source": [
    "shap.plots.scatter(shap_values_adult[:, \"Age\"])"
   ]
  },
  {
   "cell_type": "code",
   "execution_count": null,
   "id": "3d579c4e89797678",
   "metadata": {},
   "outputs": [],
   "source": [
    "shap.plots.waterfall(shap_values_adult[0])"
   ]
  },
  {
   "cell_type": "code",
   "execution_count": null,
   "id": "1e44a2593d9c20a3",
   "metadata": {},
   "outputs": [],
   "source": [
    "model_adult_log_odds(X_adult.iloc[0].values.reshape(1, -1))"
   ]
  },
  {
   "cell_type": "code",
   "execution_count": null,
   "id": "6903c67017eaa97c",
   "metadata": {},
   "outputs": [],
   "source": [
    "shap.plots.beeswarm(shap_values_adult)"
   ]
  },
  {
   "cell_type": "code",
   "execution_count": null,
   "id": "76f1ca946f04994f",
   "metadata": {},
   "outputs": [],
   "source": [
    "shap.plots.bar(shap_values_adult)"
   ]
  },
  {
   "cell_type": "code",
   "execution_count": null,
   "id": "1bb1ce227e8becc2",
   "metadata": {},
   "outputs": [],
   "source": [
    "from sklearn.metrics import classification_report, roc_auc_score, f1_score\n",
    "\n",
    "print(classification_report(y_adult, model_adult.predict(X_adult)))"
   ]
  },
  {
   "cell_type": "code",
   "execution_count": null,
   "id": "ac9c4daaa6186e6d",
   "metadata": {},
   "outputs": [],
   "source": [
    "print(roc_auc_score(y_adult, model_adult.predict_proba(X_adult)[:, 1]))"
   ]
  },
  {
   "cell_type": "code",
   "execution_count": null,
   "id": "e56d0ad7a08a2b0d",
   "metadata": {},
   "outputs": [],
   "source": [
    "print(f1_score(y_adult, model_adult.predict(X_adult)))"
   ]
  },
  {
   "cell_type": "code",
   "execution_count": null,
   "id": "832496ffd2dbb124",
   "metadata": {},
   "outputs": [],
   "source": [
    "model_adult.predict_proba(X_adult)[:, 1]"
   ]
  },
  {
   "cell_type": "code",
   "execution_count": null,
   "id": "d1be43faa4fa367d",
   "metadata": {},
   "outputs": [],
   "source": [
    "from src.explanation.local.shap_explainer import ShapExplainer"
   ]
  },
  {
   "cell_type": "code",
   "execution_count": null,
   "id": "f5744eb49606c238",
   "metadata": {},
   "outputs": [],
   "source": [
    "X_adult"
   ]
  },
  {
   "cell_type": "code",
   "execution_count": null,
   "id": "7f2ff860667aa18a",
   "metadata": {},
   "outputs": [],
   "source": [
    "shap_explainer = ShapExplainer(prediction_function, X_adult)"
   ]
  },
  {
   "cell_type": "code",
   "execution_count": null,
   "id": "f3e856a65194d55",
   "metadata": {},
   "outputs": [],
   "source": [
    "shap_explanation = shap_explainer.get_shap_explanation(X_adult[:1000])"
   ]
  },
  {
   "cell_type": "code",
   "execution_count": null,
   "id": "5d0767221aff9597",
   "metadata": {},
   "outputs": [],
   "source": [
    "shap.plots.scatter(shap_explanation[:, \"Age\"])"
   ]
  },
  {
   "cell_type": "code",
   "execution_count": null,
   "id": "55c87bcc0102b509",
   "metadata": {},
   "outputs": [],
   "source": [
    "shap.plots.waterfall(shap_explanation[0])"
   ]
  },
  {
   "cell_type": "code",
   "execution_count": null,
   "id": "6c6688410630bf22",
   "metadata": {},
   "outputs": [],
   "source": [
    "vars(shap_explanation[0])"
   ]
  },
  {
   "cell_type": "code",
   "execution_count": null,
   "id": "2eadf8505f9c4d00",
   "metadata": {},
   "outputs": [],
   "source": [
    "import numpy as np\n",
    "\n",
    "np.abs(shap_explanation[:, \"Relationship\"].values).mean()"
   ]
  },
  {
   "cell_type": "code",
   "execution_count": null,
   "id": "303fbb307d2bffe",
   "metadata": {},
   "outputs": [],
   "source": [
    "res = shap_explainer.get_global_explanation(X_adult[:1000], normalize=True)"
   ]
  },
  {
   "cell_type": "code",
   "execution_count": null,
   "id": "493efa310eab1fbe",
   "metadata": {},
   "outputs": [],
   "source": [
    "res"
   ]
  },
  {
   "cell_type": "code",
   "execution_count": null,
   "id": "b344fe09712898dc",
   "metadata": {},
   "outputs": [],
   "source": []
  }
 ],
 "metadata": {
  "kernelspec": {
   "display_name": "Python 3",
   "language": "python",
   "name": "python3"
  },
  "language_info": {
   "codemirror_mode": {
    "name": "ipython",
    "version": 2
   },
   "file_extension": ".py",
   "mimetype": "text/x-python",
   "name": "python",
   "nbconvert_exporter": "python",
   "pygments_lexer": "ipython2",
   "version": "2.7.6"
  }
 },
 "nbformat": 4,
 "nbformat_minor": 5
}
