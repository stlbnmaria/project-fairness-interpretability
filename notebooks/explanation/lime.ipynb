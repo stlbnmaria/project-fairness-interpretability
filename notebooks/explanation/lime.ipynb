{
 "cells": [
  {
   "cell_type": "markdown",
   "id": "eb62f02015272808",
   "metadata": {},
   "source": [
    "# LIME Local Explanation"
   ]
  },
  {
   "cell_type": "code",
   "execution_count": null,
   "id": "44aa3cfa6625640d",
   "metadata": {},
   "outputs": [],
   "source": [
    "import os\n",
    "import warnings\n",
    "from pathlib import Path\n",
    "\n",
    "import shap\n",
    "import numpy as np\n",
    "import pandas as pd\n",
    "import matplotlib.pyplot as plt\n",
    "from sklearn.metrics import roc_auc_score\n",
    "\n",
    "from src.utils.models_pkl import load_pickle\n",
    "from src.modeling.create_data_split import split_data\n",
    "from src.explanation.local.utils import plot_bar, plot_scatter\n",
    "from src.explanation.local.lime_explainer import LimeExplainer\n",
    "from config.config_modeling import CAT_COLS, TRAIN_SIZE, TEST_FROM_VAL, RANDOM_STATE"
   ]
  },
  {
   "cell_type": "markdown",
   "id": "db053ec8e320e3a0",
   "metadata": {},
   "source": [
    "## Notebook settings"
   ]
  },
  {
   "cell_type": "code",
   "execution_count": null,
   "id": "f9fa90b2a75673f3",
   "metadata": {},
   "outputs": [],
   "source": [
    "warnings.filterwarnings(\"ignore\")"
   ]
  },
  {
   "cell_type": "markdown",
   "id": "b78523f9533030cf",
   "metadata": {},
   "source": [
    "## Define constants"
   ]
  },
  {
   "cell_type": "code",
   "execution_count": null,
   "id": "6c19080d3a2185c6",
   "metadata": {},
   "outputs": [],
   "source": [
    "# Paths.\n",
    "IN_PATH = Path(os.path.join(\"..\", \"..\", \"data\", \"processed\")) / \"data_plain.csv\"\n",
    "MODEL_PATH = Path(os.path.join(\"..\", \"..\", \"models\")) / \"XGB.pkl\""
   ]
  },
  {
   "cell_type": "markdown",
   "id": "fe2066b31060e05f",
   "metadata": {},
   "source": [
    "## Load data"
   ]
  },
  {
   "cell_type": "code",
   "execution_count": null,
   "id": "739eeb9fc7f19756",
   "metadata": {},
   "outputs": [],
   "source": [
    "data = split_data(\n",
    "    cols=CAT_COLS,\n",
    "    df=pd.read_csv(IN_PATH),\n",
    "    train_size=TRAIN_SIZE,\n",
    "    test_size=TEST_FROM_VAL,\n",
    "    random_state=RANDOM_STATE,\n",
    ")\n",
    "\n",
    "X_train, Y_train = data[\"train\"]\n",
    "X_train.reset_index(drop=True, inplace=True)\n",
    "Y_train.reset_index(drop=True, inplace=True)\n",
    "\n",
    "X_test, Y_test = data[\"test\"]\n",
    "X_test.reset_index(drop=True, inplace=True)\n",
    "Y_test.reset_index(drop=True, inplace=True)"
   ]
  },
  {
   "cell_type": "markdown",
   "id": "3b395d1733d96c17",
   "metadata": {},
   "source": [
    "## Load model"
   ]
  },
  {
   "cell_type": "code",
   "execution_count": null,
   "id": "467031578738a579",
   "metadata": {},
   "outputs": [],
   "source": [
    "model = load_pickle(MODEL_PATH)\n",
    "\n",
    "# Validate model and data.\n",
    "print(roc_auc_score(Y_train, model.predict_proba(X_train)[:, 1]))\n",
    "print(roc_auc_score(Y_test, model.predict_proba(X_test)[:, 1]))"
   ]
  },
  {
   "cell_type": "markdown",
   "id": "79fb0ae0b7f96c5c",
   "metadata": {},
   "source": [
    "## LIME Local Explanation"
   ]
  },
  {
   "cell_type": "markdown",
   "id": "503c746106412d",
   "metadata": {},
   "source": [
    "### Define SHAP Explainer"
   ]
  },
  {
   "cell_type": "code",
   "execution_count": null,
   "id": "d8bc880f9c9a5e4",
   "metadata": {},
   "outputs": [],
   "source": [
    "lime_explainer = LimeExplainer(prediction_function=model.predict_proba, dataset=X_train)"
   ]
  },
  {
   "cell_type": "markdown",
   "id": "676216410e6f7e57",
   "metadata": {},
   "source": [
    "### Global explanation"
   ]
  },
  {
   "cell_type": "code",
   "execution_count": null,
   "id": "c70477bfb72cfefc",
   "metadata": {},
   "outputs": [],
   "source": [
    "res = lime_explainer.get_global_explanation(X_test[:1000], normalize=True)"
   ]
  },
  {
   "cell_type": "code",
   "execution_count": null,
   "id": "b55937658cd7a88c",
   "metadata": {},
   "outputs": [],
   "source": [
    "plt.figure(figsize=(8, 8))\n",
    "plot_bar(dict(sorted(res.items(), key=lambda x: -x[1])), orient=\"h\")"
   ]
  }
 ],
 "metadata": {
  "kernelspec": {
   "display_name": "Python 3",
   "language": "python",
   "name": "python3"
  },
  "language_info": {
   "codemirror_mode": {
    "name": "ipython",
    "version": 2
   },
   "file_extension": ".py",
   "mimetype": "text/x-python",
   "name": "python",
   "nbconvert_exporter": "python",
   "pygments_lexer": "ipython2",
   "version": "2.7.6"
  }
 },
 "nbformat": 4,
 "nbformat_minor": 5
}
