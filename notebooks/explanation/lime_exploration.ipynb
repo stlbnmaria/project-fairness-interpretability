{
 "cells": [
  {
   "cell_type": "code",
   "execution_count": null,
   "id": "initial_id",
   "metadata": {},
   "outputs": [],
   "source": [
    "import shap\n",
    "import lime\n",
    "import sklearn\n",
    "from lime import lime_tabular"
   ]
  },
  {
   "cell_type": "code",
   "execution_count": null,
   "id": "6acc7dc0f0769563",
   "metadata": {},
   "outputs": [],
   "source": [
    "X_adult, y_adult = shap.datasets.adult()"
   ]
  },
  {
   "cell_type": "code",
   "execution_count": null,
   "id": "c4b00d6184e60e94",
   "metadata": {},
   "outputs": [],
   "source": [
    "model_adult = sklearn.linear_model.LogisticRegression(max_iter=10000)\n",
    "model_adult.fit(X_adult, y_adult)"
   ]
  },
  {
   "cell_type": "code",
   "execution_count": null,
   "id": "71ad7fba148b7db8",
   "metadata": {},
   "outputs": [],
   "source": [
    "model_adult.classes_.tolist()"
   ]
  },
  {
   "cell_type": "code",
   "execution_count": null,
   "id": "19a27fe134ac15e1",
   "metadata": {},
   "outputs": [],
   "source": [
    "explainer = lime_tabular.LimeTabularExplainer(\n",
    "    training_data=X_adult.values,\n",
    "    feature_names=X_adult.columns,\n",
    "    class_names=model_adult.classes_,\n",
    "    discretize_continuous=False,\n",
    ")"
   ]
  },
  {
   "cell_type": "code",
   "execution_count": null,
   "id": "f6b2df1c29f6561f",
   "metadata": {},
   "outputs": [],
   "source": [
    "importance = {i: [] for i in range(X_adult.shape[1])}"
   ]
  },
  {
   "cell_type": "code",
   "execution_count": null,
   "id": "6420c8b464d67ecf",
   "metadata": {},
   "outputs": [],
   "source": [
    "exp = explainer.explain_instance(\n",
    "    X_adult.iloc[0], model_adult.predict_proba, labels=[0, 1], num_features=X_adult.shape[1]\n",
    ")"
   ]
  },
  {
   "cell_type": "code",
   "execution_count": null,
   "id": "901cde0b59c3001c",
   "metadata": {},
   "outputs": [],
   "source": [
    "for k, v in exp.as_list():\n",
    "    print(k, \" - \", v)"
   ]
  },
  {
   "cell_type": "code",
   "execution_count": null,
   "id": "bdb84100e5ba200f",
   "metadata": {},
   "outputs": [],
   "source": [
    "from collections import defaultdict\n",
    "\n",
    "import numpy as np\n",
    "from tqdm import tqdm\n",
    "\n",
    "\n",
    "n_samples = 1000\n",
    "global_explanation = defaultdict(list)\n",
    "\n",
    "for i in tqdm(range(n_samples)):\n",
    "    sample_explanation = explainer.explain_instance(\n",
    "        X_adult.iloc[i], model_adult.predict_proba, num_features=X_adult.shape[1]\n",
    "    ).as_list()\n",
    "\n",
    "    for k, v in sample_explanation:\n",
    "        global_explanation[k].append(np.abs(v))"
   ]
  },
  {
   "cell_type": "code",
   "execution_count": null,
   "id": "b04151d95ed5008",
   "metadata": {},
   "outputs": [],
   "source": [
    "global_explanation = {k: np.mean(v) for k, v in global_explanation.items()}"
   ]
  },
  {
   "cell_type": "code",
   "execution_count": null,
   "id": "9d5a8225b789f2d4",
   "metadata": {},
   "outputs": [],
   "source": [
    "global_explanation"
   ]
  },
  {
   "cell_type": "code",
   "execution_count": null,
   "id": "52afc5578cc778b",
   "metadata": {},
   "outputs": [],
   "source": [
    "import seaborn as sns\n",
    "\n",
    "\n",
    "sns.barplot(data=global_explanation, orient=\"h\")"
   ]
  },
  {
   "cell_type": "code",
   "execution_count": null,
   "id": "70b3b6c18c280b4c",
   "metadata": {},
   "outputs": [],
   "source": [
    "import warnings\n",
    "\n",
    "from src.explanation.local.lime_explainer import LimeExplainer\n",
    "\n",
    "warnings.filterwarnings(\"ignore\")\n",
    "\n",
    "%load_ext autoreload\n",
    "%autoreload 2"
   ]
  },
  {
   "cell_type": "code",
   "execution_count": null,
   "id": "49de4c2c3ffdd486",
   "metadata": {},
   "outputs": [],
   "source": [
    "lime_explainer = LimeExplainer(model_adult.predict_proba, X_adult)"
   ]
  },
  {
   "cell_type": "code",
   "execution_count": null,
   "id": "6d6a371626262328",
   "metadata": {},
   "outputs": [],
   "source": [
    "res = lime_explainer.get_global_explanation(X_adult.iloc[:1000])"
   ]
  },
  {
   "cell_type": "code",
   "execution_count": null,
   "id": "939d0b8ab0b71515",
   "metadata": {},
   "outputs": [],
   "source": [
    "res"
   ]
  },
  {
   "cell_type": "code",
   "execution_count": null,
   "id": "ddd09c3c7f7bcda6",
   "metadata": {},
   "outputs": [],
   "source": [
    "import seaborn as sns\n",
    "\n",
    "\n",
    "sns.barplot(data=res, orient=\"h\")"
   ]
  },
  {
   "cell_type": "code",
   "execution_count": null,
   "id": "3d41e5b98cebf20d",
   "metadata": {},
   "outputs": [],
   "source": [
    "from src.explanation.local.utils import plot_bar, plot_scatter"
   ]
  },
  {
   "cell_type": "code",
   "execution_count": null,
   "id": "cc9f016234b817af",
   "metadata": {},
   "outputs": [],
   "source": [
    "plot_bar(data=res, orient=\"h\")"
   ]
  },
  {
   "cell_type": "code",
   "execution_count": null,
   "id": "deadd69c2ed7aac8",
   "metadata": {},
   "outputs": [],
   "source": [
    "from collections import defaultdict\n",
    "\n",
    "\n",
    "explanations = defaultdict(list)\n",
    "\n",
    "for i in range(1000):\n",
    "    exp = lime_explainer.get_lime_explanation(X_adult.iloc[i]).as_list()\n",
    "\n",
    "    for k, v in exp:\n",
    "        explanations[k].append(v)"
   ]
  },
  {
   "cell_type": "code",
   "execution_count": null,
   "id": "6f03eacc7a173cfb",
   "metadata": {},
   "outputs": [],
   "source": [
    "explanations.keys()"
   ]
  },
  {
   "cell_type": "code",
   "execution_count": null,
   "id": "735cc72d470b0601",
   "metadata": {},
   "outputs": [],
   "source": [
    "X_adult.columns"
   ]
  },
  {
   "cell_type": "code",
   "execution_count": null,
   "id": "7a07d1046e637b14",
   "metadata": {},
   "outputs": [],
   "source": [
    "col = \"Age\"\n",
    "plot_scatter(X_adult.loc[:999, col], explanations[col], feature_name=col, title=\"LIME\")"
   ]
  },
  {
   "cell_type": "code",
   "execution_count": null,
   "id": "b1eaef6a6d5952c4",
   "metadata": {},
   "outputs": [],
   "source": []
  }
 ],
 "metadata": {
  "kernelspec": {
   "display_name": "Python 3",
   "language": "python",
   "name": "python3"
  },
  "language_info": {
   "codemirror_mode": {
    "name": "ipython",
    "version": 2
   },
   "file_extension": ".py",
   "mimetype": "text/x-python",
   "name": "python",
   "nbconvert_exporter": "python",
   "pygments_lexer": "ipython2",
   "version": "2.7.6"
  }
 },
 "nbformat": 4,
 "nbformat_minor": 5
}
