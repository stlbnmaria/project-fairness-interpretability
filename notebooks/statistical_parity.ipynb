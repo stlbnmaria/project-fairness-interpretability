{
 "cells": [
  {
   "cell_type": "code",
   "execution_count": null,
   "id": "initial_id",
   "metadata": {},
   "outputs": [],
   "source": [
    "import numpy as np\n",
    "import pandas as pd\n",
    "\n",
    "from src.fairness.statistical_parity import statistical_parity_test"
   ]
  },
  {
   "cell_type": "code",
   "execution_count": null,
   "id": "802fef9e74958294",
   "metadata": {},
   "outputs": [],
   "source": [
    "positive_outcome = \"positive\"\n",
    "negative_outcome = \"negative\"\n",
    "protected_group = \"female\"\n",
    "unprotected_group = \"male\"\n",
    "\n",
    "attribute_values = np.concatenate(\n",
    "    (\n",
    "        np.array([protected_group] * 214),\n",
    "        np.array([unprotected_group] * 557),\n",
    "        np.array([protected_group] * 96),\n",
    "        np.array([unprotected_group] * 133),\n",
    "    )\n",
    ")\n",
    "\n",
    "predictions = np.concatenate(\n",
    "    (np.array([positive_outcome] * 771), np.array([negative_outcome] * 229))\n",
    ")"
   ]
  },
  {
   "cell_type": "code",
   "execution_count": null,
   "id": "7215af476e459e86",
   "metadata": {},
   "outputs": [],
   "source": [
    "sensitive_attribute = \"sex\"\n",
    "target_column = \"prediction\"\n",
    "df = pd.DataFrame(data={sensitive_attribute: attribute_values, target_column: predictions})"
   ]
  },
  {
   "cell_type": "code",
   "execution_count": null,
   "id": "99cdec66fb521168",
   "metadata": {},
   "outputs": [],
   "source": [
    "test_results = statistical_parity_test(\n",
    "    [df], sensitive_attribute, protected_group, target_column, positive_outcome, p_quantile=0.95\n",
    ")"
   ]
  },
  {
   "cell_type": "code",
   "execution_count": null,
   "id": "eb302e761fc74127",
   "metadata": {},
   "outputs": [],
   "source": [
    "print(test_results)"
   ]
  },
  {
   "cell_type": "code",
   "execution_count": null,
   "id": "1cf86a48475ce197",
   "metadata": {},
   "outputs": [],
   "source": []
  }
 ],
 "metadata": {
  "kernelspec": {
   "display_name": "Python 3",
   "language": "python",
   "name": "python3"
  },
  "language_info": {
   "codemirror_mode": {
    "name": "ipython",
    "version": 2
   },
   "file_extension": ".py",
   "mimetype": "text/x-python",
   "name": "python",
   "nbconvert_exporter": "python",
   "pygments_lexer": "ipython2",
   "version": "2.7.6"
  }
 },
 "nbformat": 4,
 "nbformat_minor": 5
}
