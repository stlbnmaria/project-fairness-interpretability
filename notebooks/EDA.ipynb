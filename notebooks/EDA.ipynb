{
 "cells": [
  {
   "cell_type": "markdown",
   "metadata": {},
   "source": [
    "# Exploratory Data Analysis"
   ]
  },
  {
   "cell_type": "code",
   "execution_count": null,
   "metadata": {},
   "outputs": [],
   "source": [
    "# TODO: check if \"Year\" needs to be float or can be converted to int\n",
    "# TODO: think about how to potentially group values like \"Make\", \"State\", etc.\n",
    "# TODO: think of what columns to drop\n",
    "# TODO: drop \"SERO\" for label or maybe (???) transform to citation\n",
    "# TODO: think of how to sample the data (ATTENTION: year is the year of the car) - not more than 20k observations\n",
    "# TODO: think of what to do with missing values - if any left\n",
    "# TODO: think of feature engineering\n",
    "# TODO: correlations plot\n",
    "# TODO: distributions plot"
   ]
  },
  {
   "cell_type": "code",
   "execution_count": null,
   "metadata": {},
   "outputs": [],
   "source": [
    "from pathlib import Path\n",
    "from typing import Tuple\n",
    "\n",
    "import pandas as pd\n",
    "from scipy.io.arff import loadarff\n",
    "from scipy.io.arff._arffread import MetaData"
   ]
  },
  {
   "cell_type": "code",
   "execution_count": null,
   "metadata": {},
   "outputs": [],
   "source": [
    "DATA_PATH = Path(\"../data/file65ef3a759daf.arff\")"
   ]
  },
  {
   "cell_type": "markdown",
   "metadata": {},
   "source": [
    "## Data Preprocessing Functions"
   ]
  },
  {
   "cell_type": "code",
   "execution_count": null,
   "metadata": {},
   "outputs": [],
   "source": [
    "def load_data(path_: Path) -> Tuple[pd.DataFrame, MetaData]:\n",
    "    \"\"\"Loads the .arff file (incl. metadata) and converts to utf-8.\n",
    "\n",
    "    Parameters\n",
    "    -------\n",
    "    path_ : Path\n",
    "            Path of the data.\n",
    "\n",
    "    Returns\n",
    "    -------\n",
    "    data : pd.DataFrame\n",
    "            Data as a dataframe.\n",
    "    meta : scipy.io.arff._arffread.Metadata\n",
    "            Metadata of the dataset.\n",
    "    \"\"\"\n",
    "    # load df and metadata from .arff\n",
    "    data, meta = loadarff(path_)\n",
    "    data = pd.DataFrame(data)\n",
    "\n",
    "    # remove b string from data\n",
    "    str_df = data.select_dtypes([object])\n",
    "    str_df = str_df.stack().str.decode(\"utf-8\").unstack()\n",
    "    data = pd.concat([str_df, data.select_dtypes(exclude=[object])], axis=1)\n",
    "\n",
    "    return data, meta\n",
    "\n",
    "\n",
    "def change_to_bool(df: pd.DataFrame) -> pd.DataFrame:\n",
    "    \"\"\"Change yes/no values in columns to bool.\n",
    "\n",
    "    Parameters\n",
    "    -------\n",
    "    df : pd.DataFrame\n",
    "            Data to transform.\n",
    "\n",
    "    Returns\n",
    "    -------\n",
    "    df : pd.DataFrame\n",
    "            Transformed data.\n",
    "    \"\"\"\n",
    "    for col in df.columns:\n",
    "        if set(df[col].unique().tolist()) - set([\"No\", \"Yes\"]) == set():\n",
    "            df[col] = df[col].map(dict(Yes=True, No=False))\n",
    "\n",
    "    return df"
   ]
  },
  {
   "cell_type": "markdown",
   "metadata": {},
   "source": [
    "## Preprocess Data"
   ]
  },
  {
   "cell_type": "code",
   "execution_count": null,
   "metadata": {},
   "outputs": [],
   "source": [
    "data, meta = load_data(DATA_PATH)"
   ]
  },
  {
   "cell_type": "code",
   "execution_count": null,
   "metadata": {},
   "outputs": [],
   "source": [
    "meta"
   ]
  },
  {
   "cell_type": "code",
   "execution_count": null,
   "metadata": {},
   "outputs": [],
   "source": [
    "print(\"Dimensions of the dataset:\", data.shape)"
   ]
  },
  {
   "cell_type": "code",
   "execution_count": null,
   "metadata": {},
   "outputs": [],
   "source": [
    "data.head()"
   ]
  },
  {
   "cell_type": "code",
   "execution_count": null,
   "metadata": {},
   "outputs": [],
   "source": [
    "data[\"Violation.Type\"].value_counts()"
   ]
  },
  {
   "cell_type": "code",
   "execution_count": null,
   "metadata": {},
   "outputs": [],
   "source": [
    "data[\"Race\"].value_counts()"
   ]
  },
  {
   "cell_type": "code",
   "execution_count": null,
   "metadata": {},
   "outputs": [],
   "source": [
    "data[\"Violation.Type\"].value_counts()"
   ]
  },
  {
   "cell_type": "code",
   "execution_count": null,
   "metadata": {},
   "outputs": [],
   "source": [
    "data = change_to_bool(data)\n",
    "data.head()"
   ]
  },
  {
   "cell_type": "code",
   "execution_count": null,
   "metadata": {},
   "outputs": [],
   "source": []
  }
 ],
 "metadata": {
  "kernelspec": {
   "display_name": ".venv",
   "language": "python",
   "name": "python3"
  },
  "language_info": {
   "codemirror_mode": {
    "name": "ipython",
    "version": 3
   },
   "file_extension": ".py",
   "mimetype": "text/x-python",
   "name": "python",
   "nbconvert_exporter": "python",
   "pygments_lexer": "ipython3",
   "version": "3.10.7"
  }
 },
 "nbformat": 4,
 "nbformat_minor": 2
}
