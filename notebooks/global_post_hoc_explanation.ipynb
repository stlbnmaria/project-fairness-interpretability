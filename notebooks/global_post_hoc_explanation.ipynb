{
 "cells": [
  {
   "cell_type": "code",
   "execution_count": null,
   "metadata": {},
   "outputs": [],
   "source": [
    "import pandas as pd\n",
    "import pandas as pd\n",
    "from sklearn.inspection import PartialDependenceDisplay\n",
    "from pathlib import Path\n",
    "from src.modeling.create_data_split import split_data\n",
    "from src.explanation.global_exp.post_hoc_methods import (\n",
    "    get_underscore,\n",
    "    ohe_filter,\n",
    "    categorical_partial_dependence,\n",
    "    ohe_ale,\n",
    ")\n",
    "from src.utils.models_pkl import load_pickle\n",
    "from config.config_modeling import CAT_COLS, TRAIN_SIZE, TEST_FROM_VAL, RANDOM_STATE\n",
    "from PyALE import ale\n",
    "import warnings"
   ]
  },
  {
   "cell_type": "code",
   "execution_count": null,
   "metadata": {},
   "outputs": [],
   "source": [
    "warnings.filterwarnings(\"ignore\")"
   ]
  },
  {
   "cell_type": "markdown",
   "metadata": {},
   "source": [
    "# Initializing all the necessary variables"
   ]
  },
  {
   "cell_type": "code",
   "execution_count": null,
   "metadata": {},
   "outputs": [],
   "source": [
    "IN_PATH = Path(\"../data\") / \"data.csv\"\n",
    "MODEL_PATH = Path(\"../models\") / \"XGB.pkl\"\n",
    "data = pd.read_csv(IN_PATH)"
   ]
  },
  {
   "cell_type": "code",
   "execution_count": null,
   "metadata": {},
   "outputs": [],
   "source": [
    "ohe_data = split_data(\n",
    "    cols=CAT_COLS,\n",
    "    df=data,\n",
    "    train_size=TRAIN_SIZE,\n",
    "    test_size=TEST_FROM_VAL,\n",
    "    random_state=RANDOM_STATE,\n",
    ")"
   ]
  },
  {
   "cell_type": "code",
   "execution_count": null,
   "metadata": {},
   "outputs": [],
   "source": [
    "X_train = ohe_data[\"train\"][0]\n",
    "Y_train = ohe_data[\"train\"][1]\n",
    "X_test = ohe_data[\"test\"][0]"
   ]
  },
  {
   "cell_type": "code",
   "execution_count": null,
   "metadata": {},
   "outputs": [],
   "source": [
    "cols = X_train.columns.values.tolist()\n",
    "underscore = get_underscore(cols)\n",
    "underscore_cols = underscore[0]\n",
    "non_underscore_cols = underscore[1]\n",
    "ohe_results = ohe_filter(non_underscore_cols, underscore_cols)\n",
    "non_ohe = ohe_results[0]\n",
    "ohe = ohe_results[1]\n",
    "prefix_ohe = ohe_results[2]\n",
    "numerical = [[\"Year\"]]\n",
    "non_ohe.remove([\"Year\"])"
   ]
  },
  {
   "cell_type": "code",
   "execution_count": null,
   "metadata": {},
   "outputs": [],
   "source": [
    "model = load_pickle(MODEL_PATH)"
   ]
  },
  {
   "cell_type": "markdown",
   "metadata": {},
   "source": [
    "# PDP"
   ]
  },
  {
   "cell_type": "markdown",
   "metadata": {},
   "source": [
    "### Numerical variables"
   ]
  },
  {
   "cell_type": "code",
   "execution_count": null,
   "metadata": {},
   "outputs": [],
   "source": [
    "year_PDP = PartialDependenceDisplay.from_estimator(model, X_test, features=numerical[0])"
   ]
  },
  {
   "cell_type": "markdown",
   "metadata": {},
   "source": [
    "### Categorical, not one hot encoded variables "
   ]
  },
  {
   "cell_type": "code",
   "execution_count": null,
   "metadata": {},
   "outputs": [],
   "source": [
    "Belts_PDP = PartialDependenceDisplay.from_estimator(\n",
    "    model, X_test, features=non_ohe[0], categorical_features=non_ohe[0]\n",
    ")"
   ]
  },
  {
   "cell_type": "code",
   "execution_count": null,
   "metadata": {},
   "outputs": [],
   "source": [
    "Commercial_license_PDP = PartialDependenceDisplay.from_estimator(\n",
    "    model, X_test, features=non_ohe[1], categorical_features=non_ohe[1]\n",
    ")"
   ]
  },
  {
   "cell_type": "code",
   "execution_count": null,
   "metadata": {},
   "outputs": [],
   "source": [
    "Contributed_To_Accident_PDP = PartialDependenceDisplay.from_estimator(\n",
    "    model, X_test, features=non_ohe[2], categorical_features=non_ohe[2]\n",
    ")"
   ]
  },
  {
   "cell_type": "code",
   "execution_count": null,
   "metadata": {},
   "outputs": [],
   "source": [
    "Personal_injury_PDP = PartialDependenceDisplay.from_estimator(\n",
    "    model, X_test, features=non_ohe[3], categorical_features=non_ohe[3]\n",
    ")"
   ]
  },
  {
   "cell_type": "code",
   "execution_count": null,
   "metadata": {},
   "outputs": [],
   "source": [
    "Property_damage_PDP = PartialDependenceDisplay.from_estimator(\n",
    "    model, X_test, features=non_ohe[4], categorical_features=non_ohe[4]\n",
    ")"
   ]
  },
  {
   "cell_type": "code",
   "execution_count": null,
   "metadata": {},
   "outputs": [],
   "source": [
    "State_MD_PDP = PartialDependenceDisplay.from_estimator(\n",
    "    model, X_test, features=non_ohe[5], categorical_features=non_ohe[5]\n",
    ")"
   ]
  },
  {
   "cell_type": "code",
   "execution_count": null,
   "metadata": {},
   "outputs": [],
   "source": [
    "Driver_State_MD_PDP = PartialDependenceDisplay.from_estimator(\n",
    "    model, X_test, features=non_ohe[6], categorical_features=non_ohe[6]\n",
    ")"
   ]
  },
  {
   "cell_type": "code",
   "execution_count": null,
   "metadata": {},
   "outputs": [],
   "source": [
    "DL_state_MD_PDP = PartialDependenceDisplay.from_estimator(\n",
    "    model, X_test, features=non_ohe[7], categorical_features=non_ohe[7]\n",
    ")"
   ]
  },
  {
   "cell_type": "markdown",
   "metadata": {},
   "source": [
    "### One hot encoded variables"
   ]
  },
  {
   "cell_type": "code",
   "execution_count": null,
   "metadata": {},
   "outputs": [],
   "source": [
    "Color_PDP = categorical_partial_dependence(model, X_test, feature_names=ohe[0], figure_size=(7, 5))"
   ]
  },
  {
   "cell_type": "code",
   "execution_count": null,
   "metadata": {},
   "outputs": [],
   "source": [
    "Gender_PDP = categorical_partial_dependence(model, X_test, feature_names=ohe[1], figure_size=(7, 5))"
   ]
  },
  {
   "cell_type": "code",
   "execution_count": null,
   "metadata": {},
   "outputs": [],
   "source": [
    "Make_PDP = categorical_partial_dependence(model, X_test, feature_names=ohe[2], figure_size=(12, 5))"
   ]
  },
  {
   "cell_type": "code",
   "execution_count": null,
   "metadata": {},
   "outputs": [],
   "source": [
    "Race_PDP = categorical_partial_dependence(model, X_test, feature_names=ohe[3], figure_size=(10, 5))"
   ]
  },
  {
   "cell_type": "code",
   "execution_count": null,
   "metadata": {},
   "outputs": [],
   "source": [
    "VehicleType_PDP = categorical_partial_dependence(\n",
    "    model, X_test, feature_names=ohe[4], figure_size=(10, 5)\n",
    ")"
   ]
  },
  {
   "cell_type": "markdown",
   "metadata": {},
   "source": [
    "# PYALE"
   ]
  },
  {
   "cell_type": "markdown",
   "metadata": {},
   "source": [
    "### Numerical variables"
   ]
  },
  {
   "cell_type": "code",
   "execution_count": null,
   "metadata": {},
   "outputs": [],
   "source": [
    "Year_ALE = ale(X=X_test, model=model, feature=[\"Year\"], include_CI=False)"
   ]
  },
  {
   "cell_type": "markdown",
   "metadata": {},
   "source": [
    "### Categorical, not one hot encoded variables"
   ]
  },
  {
   "cell_type": "code",
   "execution_count": null,
   "metadata": {},
   "outputs": [],
   "source": [
    "Belts_ALE = ale(\n",
    "    X=X_test,\n",
    "    model=model,\n",
    "    feature=non_ohe[0],\n",
    "    feature_type=\"discrete\",\n",
    "    include_CI=False,\n",
    ")"
   ]
  },
  {
   "cell_type": "code",
   "execution_count": null,
   "metadata": {},
   "outputs": [],
   "source": [
    "Commercial_license_ALE = ale(\n",
    "    X=X_test,\n",
    "    model=model,\n",
    "    feature=non_ohe[1],\n",
    "    feature_type=\"discrete\",\n",
    "    include_CI=False,\n",
    ")"
   ]
  },
  {
   "cell_type": "code",
   "execution_count": null,
   "metadata": {},
   "outputs": [],
   "source": [
    "Contributed_To_Accident_ALE = ale(\n",
    "    X=X_test,\n",
    "    model=model,\n",
    "    feature=non_ohe[2],\n",
    "    feature_type=\"discrete\",\n",
    "    include_CI=False,\n",
    ")"
   ]
  },
  {
   "cell_type": "code",
   "execution_count": null,
   "metadata": {},
   "outputs": [],
   "source": [
    "Personal_injury_ALE = ale(\n",
    "    X=X_test,\n",
    "    model=model,\n",
    "    feature=non_ohe[3],\n",
    "    feature_type=\"discrete\",\n",
    "    include_CI=False,\n",
    ")"
   ]
  },
  {
   "cell_type": "code",
   "execution_count": null,
   "metadata": {},
   "outputs": [],
   "source": [
    "Property_damage_ALE = ale(\n",
    "    X=X_test,\n",
    "    model=model,\n",
    "    feature=non_ohe[4],\n",
    "    feature_type=\"discrete\",\n",
    "    include_CI=False,\n",
    ")"
   ]
  },
  {
   "cell_type": "code",
   "execution_count": null,
   "metadata": {},
   "outputs": [],
   "source": [
    "State_MD_ALE = ale(\n",
    "    X=X_test,\n",
    "    model=model,\n",
    "    feature=non_ohe[5],\n",
    "    feature_type=\"discrete\",\n",
    "    include_CI=False,\n",
    ")"
   ]
  },
  {
   "cell_type": "code",
   "execution_count": null,
   "metadata": {},
   "outputs": [],
   "source": [
    "Driver_State_MD_ALE = ale(\n",
    "    X=X_test,\n",
    "    model=model,\n",
    "    feature=non_ohe[6],\n",
    "    feature_type=\"discrete\",\n",
    "    include_CI=False,\n",
    ")"
   ]
  },
  {
   "cell_type": "code",
   "execution_count": null,
   "metadata": {},
   "outputs": [],
   "source": [
    "DL_state_MD_ALE = ale(\n",
    "    X=X_test,\n",
    "    model=model,\n",
    "    feature=non_ohe[7],\n",
    "    feature_type=\"discrete\",\n",
    "    include_CI=False,\n",
    ")"
   ]
  },
  {
   "cell_type": "markdown",
   "metadata": {},
   "source": [
    "### One hot encoded variables"
   ]
  },
  {
   "cell_type": "code",
   "execution_count": null,
   "metadata": {},
   "outputs": [],
   "source": [
    "Color_ALE = ohe_ale(\n",
    "    prefix_ohe[0],\n",
    "    cat_cols=CAT_COLS,\n",
    "    model_cols=cols,\n",
    "    df=data,\n",
    "    model=model,\n",
    "    train_size=TRAIN_SIZE,\n",
    "    test_size=TEST_FROM_VAL,\n",
    "    random_state=RANDOM_STATE,\n",
    "    figure_size=(10, 5),\n",
    ")"
   ]
  },
  {
   "cell_type": "code",
   "execution_count": null,
   "metadata": {},
   "outputs": [],
   "source": [
    "Gender_ALE = ohe_ale(\n",
    "    prefix_ohe[1],\n",
    "    cat_cols=CAT_COLS,\n",
    "    model_cols=cols,\n",
    "    df=data,\n",
    "    model=model,\n",
    "    train_size=TRAIN_SIZE,\n",
    "    test_size=TEST_FROM_VAL,\n",
    "    random_state=RANDOM_STATE,\n",
    "    figure_size=(7, 5),\n",
    ")"
   ]
  },
  {
   "cell_type": "code",
   "execution_count": null,
   "metadata": {},
   "outputs": [],
   "source": [
    "Make_ALE = ohe_ale(\n",
    "    prefix_ohe[2],\n",
    "    cat_cols=CAT_COLS,\n",
    "    model_cols=cols,\n",
    "    df=data,\n",
    "    model=model,\n",
    "    train_size=TRAIN_SIZE,\n",
    "    test_size=TEST_FROM_VAL,\n",
    "    random_state=RANDOM_STATE,\n",
    "    figure_size=(20, 8),\n",
    ")"
   ]
  },
  {
   "cell_type": "code",
   "execution_count": null,
   "metadata": {},
   "outputs": [],
   "source": [
    "Race_ALE = ohe_ale(\n",
    "    prefix_ohe[3],\n",
    "    cat_cols=CAT_COLS,\n",
    "    model_cols=cols,\n",
    "    df=data,\n",
    "    model=model,\n",
    "    train_size=TRAIN_SIZE,\n",
    "    test_size=TEST_FROM_VAL,\n",
    "    random_state=RANDOM_STATE,\n",
    "    figure_size=(10, 5),\n",
    ")"
   ]
  },
  {
   "cell_type": "code",
   "execution_count": null,
   "metadata": {},
   "outputs": [],
   "source": [
    "VehicleType_ALE = ohe_ale(\n",
    "    prefix_ohe[4],\n",
    "    cat_cols=CAT_COLS,\n",
    "    model_cols=cols,\n",
    "    df=data,\n",
    "    model=model,\n",
    "    train_size=TRAIN_SIZE,\n",
    "    test_size=TEST_FROM_VAL,\n",
    "    random_state=RANDOM_STATE,\n",
    "    figure_size=(10, 5),\n",
    ")"
   ]
  },
  {
   "cell_type": "code",
   "execution_count": null,
   "metadata": {},
   "outputs": [],
   "source": []
  }
 ],
 "metadata": {
  "kernelspec": {
   "display_name": "fairness_project",
   "language": "python",
   "name": "python3"
  },
  "language_info": {
   "codemirror_mode": {
    "name": "ipython",
    "version": 3
   },
   "file_extension": ".py",
   "mimetype": "text/x-python",
   "name": "python",
   "nbconvert_exporter": "python",
   "pygments_lexer": "ipython3",
   "version": "3.9.18"
  }
 },
 "nbformat": 4,
 "nbformat_minor": 2
}
