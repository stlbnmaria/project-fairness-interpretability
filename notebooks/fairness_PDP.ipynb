{
 "cells": [
  {
   "cell_type": "code",
   "execution_count": null,
   "metadata": {},
   "outputs": [],
   "source": [
    "from pathlib import Path\n",
    "import numpy as np\n",
    "import pandas as pd\n",
    "import matplotlib.pyplot as plt\n",
    "from config.config_modeling import CAT_COLS, TRAIN_SIZE, TEST_FROM_VAL, RANDOM_STATE\n",
    "from src.modeling.create_data_split import split_data\n",
    "from src.utils.models_pkl import load_pickle\n",
    "from scipy import stats\n",
    "from src.fairness.FPDP import (\n",
    "    fairness_pdp_cat,\n",
    "    fairness_pdp_num,\n",
    "    fairness_pdp_ohe,\n",
    "    fpdp_dataset,\n",
    "    remove_sensitive_variable,\n",
    ")\n",
    "from src.explanation.global_.utils import get_underscore, ohe_filter\n",
    "import warnings"
   ]
  },
  {
   "cell_type": "code",
   "execution_count": null,
   "metadata": {},
   "outputs": [],
   "source": [
    "warnings.filterwarnings(\"ignore\")"
   ]
  },
  {
   "cell_type": "markdown",
   "metadata": {},
   "source": [
    "# Initializing all the features "
   ]
  },
  {
   "cell_type": "code",
   "execution_count": null,
   "metadata": {},
   "outputs": [],
   "source": [
    "IN_PATH = Path(\"../data\") / \"data.csv\"\n",
    "MODEL_PATH = Path(\"../models\") / \"XGB.pkl\""
   ]
  },
  {
   "cell_type": "code",
   "execution_count": null,
   "metadata": {},
   "outputs": [],
   "source": [
    "data = pd.read_csv(IN_PATH)\n",
    "model = load_pickle(MODEL_PATH)"
   ]
  },
  {
   "cell_type": "code",
   "execution_count": null,
   "metadata": {},
   "outputs": [],
   "source": [
    "ohe_data = split_data(\n",
    "    cols=CAT_COLS,\n",
    "    df=data,\n",
    "    train_size=TRAIN_SIZE,\n",
    "    test_size=TEST_FROM_VAL,\n",
    "    random_state=RANDOM_STATE,\n",
    ")\n",
    "\n",
    "X_train = ohe_data[\"train\"][0]\n",
    "Y_train = ohe_data[\"train\"][1]\n",
    "X_test = ohe_data[\"test\"][0]"
   ]
  },
  {
   "cell_type": "code",
   "execution_count": null,
   "metadata": {},
   "outputs": [],
   "source": [
    "cols = X_train.columns.values.tolist()\n",
    "underscore = get_underscore(cols)\n",
    "underscore_cols = underscore[0]\n",
    "non_underscore_cols = underscore[1]\n",
    "ohe_results = ohe_filter(non_underscore_cols, underscore_cols)\n",
    "non_ohe = [element[0] for element in ohe_results[0]]\n",
    "ohe = ohe_results[1]\n",
    "numerical = [\"Year\"]\n",
    "non_ohe.remove(\"Year\")"
   ]
  },
  {
   "cell_type": "markdown",
   "metadata": {},
   "source": [
    "# Gender"
   ]
  },
  {
   "cell_type": "code",
   "execution_count": null,
   "metadata": {},
   "outputs": [],
   "source": [
    "sensitive_topic = \"Gender\"\n",
    "sensitive_values = fpdp_dataset(\n",
    "    data, sensitive_topic, cat_cols=CAT_COLS, train_size=TRAIN_SIZE, test_size=TEST_FROM_VAL\n",
    ")\n",
    "ohe = remove_sensitive_variable(ohe, sensitive_topic)"
   ]
  },
  {
   "cell_type": "markdown",
   "metadata": {},
   "source": [
    "### One Hot Econded variables"
   ]
  },
  {
   "cell_type": "code",
   "execution_count": null,
   "metadata": {},
   "outputs": [],
   "source": [
    "for element in ohe:\n",
    "    fairness_pdp = fairness_pdp_ohe(\n",
    "        model,\n",
    "        feature_names=element,\n",
    "        protected_group=\"F\",\n",
    "        X=X_test,\n",
    "        sensitive_values=sensitive_values,\n",
    "        fig_size=(10, 5),\n",
    "        p_value_threshold=0.05,\n",
    "    )"
   ]
  },
  {
   "cell_type": "markdown",
   "metadata": {},
   "source": [
    "### Categorical, not one hot encoded variables"
   ]
  },
  {
   "cell_type": "code",
   "execution_count": null,
   "metadata": {},
   "outputs": [],
   "source": [
    "for element in non_ohe:\n",
    "    fairness_pdp = fairness_pdp_cat(\n",
    "        model,\n",
    "        feature=element,\n",
    "        protected_group=\"F\",\n",
    "        X=X_test,\n",
    "        sensitive_values=sensitive_values,\n",
    "        fig_size=(10, 5),\n",
    "        p_value_threshold=0.05,\n",
    "        x_label=element,\n",
    "    )"
   ]
  },
  {
   "cell_type": "markdown",
   "metadata": {},
   "source": [
    "### Numerical variables"
   ]
  },
  {
   "cell_type": "code",
   "execution_count": null,
   "metadata": {},
   "outputs": [],
   "source": [
    "Year_FPDP = fairness_pdp_num(\n",
    "    model=model,\n",
    "    feature=numerical[0],\n",
    "    step=1.0,\n",
    "    protected_group=\"F\",\n",
    "    X=X_test,\n",
    "    sensitive_values=sensitive_values,\n",
    "    fig_size=(10, 5),\n",
    "    p_value_threshold=0.05,\n",
    ")"
   ]
  },
  {
   "cell_type": "markdown",
   "metadata": {},
   "source": [
    "# Race"
   ]
  },
  {
   "cell_type": "code",
   "execution_count": null,
   "metadata": {},
   "outputs": [],
   "source": [
    "# resetting ohe\n",
    "ohe = ohe_results[1]"
   ]
  },
  {
   "cell_type": "code",
   "execution_count": null,
   "metadata": {},
   "outputs": [],
   "source": [
    "sensitive_topic = \"Race\"\n",
    "sensitive_values = fpdp_dataset(\n",
    "    data, sensitive_topic, cat_cols=CAT_COLS, train_size=TRAIN_SIZE, test_size=TEST_FROM_VAL\n",
    ")\n",
    "ohe = remove_sensitive_variable(ohe, sensitive_topic)"
   ]
  },
  {
   "cell_type": "markdown",
   "metadata": {},
   "source": [
    "### One Hot Encoded variables"
   ]
  },
  {
   "cell_type": "code",
   "execution_count": null,
   "metadata": {},
   "outputs": [],
   "source": [
    "for element in ohe:\n",
    "    fairness_pdp = fairness_pdp_ohe(\n",
    "        model,\n",
    "        feature_names=element,\n",
    "        protected_group=\"BLACK\",\n",
    "        X=X_test,\n",
    "        sensitive_values=sensitive_values,\n",
    "        fig_size=(10, 5),\n",
    "        p_value_threshold=0.05,\n",
    "    )"
   ]
  },
  {
   "cell_type": "markdown",
   "metadata": {},
   "source": [
    "### Categorical, not one hot encoded variables"
   ]
  },
  {
   "cell_type": "code",
   "execution_count": null,
   "metadata": {},
   "outputs": [],
   "source": [
    "for element in non_ohe:\n",
    "    fairness_pdp = fairness_pdp_cat(\n",
    "        model,\n",
    "        feature=element,\n",
    "        protected_group=\"BLACK\",\n",
    "        X=X_test,\n",
    "        sensitive_values=sensitive_values,\n",
    "        fig_size=(10, 5),\n",
    "        p_value_threshold=0.05,\n",
    "        x_label=element,\n",
    "    )"
   ]
  },
  {
   "cell_type": "markdown",
   "metadata": {},
   "source": [
    "### Numerical variables"
   ]
  },
  {
   "cell_type": "code",
   "execution_count": null,
   "metadata": {},
   "outputs": [],
   "source": [
    "Year_FPDP = fairness_pdp_num(\n",
    "    model=model,\n",
    "    feature=numerical[0],\n",
    "    step=1.0,\n",
    "    protected_group=\"BLACK\",\n",
    "    X=X_test,\n",
    "    sensitive_values=sensitive_values,\n",
    "    fig_size=(10, 5),\n",
    "    p_value_threshold=0.05,\n",
    ")"
   ]
  }
 ],
 "metadata": {
  "kernelspec": {
   "display_name": "fairness_proj",
   "language": "python",
   "name": "python3"
  },
  "language_info": {
   "codemirror_mode": {
    "name": "ipython",
    "version": 3
   },
   "file_extension": ".py",
   "mimetype": "text/x-python",
   "name": "python",
   "nbconvert_exporter": "python",
   "pygments_lexer": "ipython3",
   "version": "3.9.18"
  }
 },
 "nbformat": 4,
 "nbformat_minor": 2
}
